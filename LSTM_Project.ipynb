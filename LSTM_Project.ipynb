{
 "cells": [
  {
   "cell_type": "markdown",
   "id": "answering-opera",
   "metadata": {},
   "source": [
    "# Import Libraries"
   ]
  },
  {
   "cell_type": "code",
   "execution_count": 1,
   "id": "piano-version",
   "metadata": {},
   "outputs": [
    {
     "name": "stderr",
     "output_type": "stream",
     "text": [
      "Using TensorFlow backend.\n"
     ]
    }
   ],
   "source": [
    "import numpy as np\n",
    "import matplotlib.pyplot as plt\n",
    "import pandas as pd\n",
    "import tensorflow as tf\n",
    "from math import sqrt\n",
    "from sklearn.metrics import mean_squared_error\n",
    "from sklearn.preprocessing import MinMaxScaler\n",
    "from keras.models import Sequential\n",
    "from keras.layers import Dense, Flatten, LSTM, RepeatVector, TimeDistributed, Dropout"
   ]
  },
  {
   "cell_type": "code",
   "execution_count": 2,
   "id": "arbitrary-average",
   "metadata": {},
   "outputs": [
    {
     "name": "stdout",
     "output_type": "stream",
     "text": [
      "1 Physical GPUs, 1 Logical GPUs\n"
     ]
    }
   ],
   "source": [
    "# To test and connect your work to your gpu if you have one\n",
    "gpus = tf.config.experimental.list_physical_devices('GPU')\n",
    "if gpus:\n",
    "    try:\n",
    "        # Restrict TensorFlow to only use the fourth GPU\n",
    "        tf.config.experimental.set_visible_devices(gpus[0], 'GPU')\n",
    "\n",
    "        # Currently, memory growth needs to be the same across GPUs\n",
    "        for gpu in gpus:\n",
    "            tf.config.experimental.set_memory_growth(gpu, True)\n",
    "        logical_gpus = tf.config.experimental.list_logical_devices('GPU')\n",
    "        print(len(gpus), \"Physical GPUs,\", len(logical_gpus), \"Logical GPUs\")\n",
    "    except RuntimeError as e:\n",
    "        # Memory growth must be set before GPUs have been initialized\n",
    "        print(e)"
   ]
  },
  {
   "cell_type": "code",
   "execution_count": 3,
   "id": "registered-nylon",
   "metadata": {},
   "outputs": [
    {
     "data": {
      "text/plain": [
       "<module 'tensorflow_core._api.v2.version' from 'C:\\\\Users\\\\Austin\\\\anaconda3\\\\envs\\\\deep_learning\\\\lib\\\\site-packages\\\\tensorflow_core\\\\_api\\\\v2\\\\version\\\\__init__.py'>"
      ]
     },
     "execution_count": 3,
     "metadata": {},
     "output_type": "execute_result"
    }
   ],
   "source": [
    "tf.version"
   ]
  },
  {
   "cell_type": "markdown",
   "id": "controversial-running",
   "metadata": {},
   "source": [
    "# Preprocessing"
   ]
  },
  {
   "cell_type": "code",
   "execution_count": 4,
   "id": "vanilla-shepherd",
   "metadata": {},
   "outputs": [
    {
     "data": {
      "text/html": [
       "<div>\n",
       "<style scoped>\n",
       "    .dataframe tbody tr th:only-of-type {\n",
       "        vertical-align: middle;\n",
       "    }\n",
       "\n",
       "    .dataframe tbody tr th {\n",
       "        vertical-align: top;\n",
       "    }\n",
       "\n",
       "    .dataframe thead th {\n",
       "        text-align: right;\n",
       "    }\n",
       "</style>\n",
       "<table border=\"1\" class=\"dataframe\">\n",
       "  <thead>\n",
       "    <tr style=\"text-align: right;\">\n",
       "      <th></th>\n",
       "      <th>co2</th>\n",
       "    </tr>\n",
       "  </thead>\n",
       "  <tbody>\n",
       "    <tr>\n",
       "      <th>count</th>\n",
       "      <td>135099.000000</td>\n",
       "    </tr>\n",
       "    <tr>\n",
       "      <th>mean</th>\n",
       "      <td>688.833011</td>\n",
       "    </tr>\n",
       "    <tr>\n",
       "      <th>std</th>\n",
       "      <td>385.845573</td>\n",
       "    </tr>\n",
       "    <tr>\n",
       "      <th>min</th>\n",
       "      <td>369.000000</td>\n",
       "    </tr>\n",
       "    <tr>\n",
       "      <th>25%</th>\n",
       "      <td>429.000000</td>\n",
       "    </tr>\n",
       "    <tr>\n",
       "      <th>50%</th>\n",
       "      <td>483.000000</td>\n",
       "    </tr>\n",
       "    <tr>\n",
       "      <th>75%</th>\n",
       "      <td>852.000000</td>\n",
       "    </tr>\n",
       "    <tr>\n",
       "      <th>max</th>\n",
       "      <td>2626.000000</td>\n",
       "    </tr>\n",
       "  </tbody>\n",
       "</table>\n",
       "</div>"
      ],
      "text/plain": [
       "                 co2\n",
       "count  135099.000000\n",
       "mean      688.833011\n",
       "std       385.845573\n",
       "min       369.000000\n",
       "25%       429.000000\n",
       "50%       483.000000\n",
       "75%       852.000000\n",
       "max      2626.000000"
      ]
     },
     "execution_count": 4,
     "metadata": {},
     "output_type": "execute_result"
    }
   ],
   "source": [
    "# Import the data\n",
    "df = pd.read_csv('C:/Users/Austin/Documents/Jeff Kimmel/CO2.csv') # Change this directory to yours.\n",
    "df.describe()"
   ]
  },
  {
   "cell_type": "code",
   "execution_count": 5,
   "id": "seventh-eligibility",
   "metadata": {},
   "outputs": [
    {
     "data": {
      "text/html": [
       "<div>\n",
       "<style scoped>\n",
       "    .dataframe tbody tr th:only-of-type {\n",
       "        vertical-align: middle;\n",
       "    }\n",
       "\n",
       "    .dataframe tbody tr th {\n",
       "        vertical-align: top;\n",
       "    }\n",
       "\n",
       "    .dataframe thead th {\n",
       "        text-align: right;\n",
       "    }\n",
       "</style>\n",
       "<table border=\"1\" class=\"dataframe\">\n",
       "  <thead>\n",
       "    <tr style=\"text-align: right;\">\n",
       "      <th></th>\n",
       "      <th>co2</th>\n",
       "    </tr>\n",
       "    <tr>\n",
       "      <th>ts</th>\n",
       "      <th></th>\n",
       "    </tr>\n",
       "  </thead>\n",
       "  <tbody>\n",
       "    <tr>\n",
       "      <th>11/21/2016 0:47</th>\n",
       "      <td>708</td>\n",
       "    </tr>\n",
       "    <tr>\n",
       "      <th>11/21/2016 0:48</th>\n",
       "      <td>694</td>\n",
       "    </tr>\n",
       "    <tr>\n",
       "      <th>11/21/2016 0:49</th>\n",
       "      <td>693</td>\n",
       "    </tr>\n",
       "    <tr>\n",
       "      <th>11/21/2016 0:50</th>\n",
       "      <td>692</td>\n",
       "    </tr>\n",
       "    <tr>\n",
       "      <th>11/21/2016 0:51</th>\n",
       "      <td>690</td>\n",
       "    </tr>\n",
       "  </tbody>\n",
       "</table>\n",
       "</div>"
      ],
      "text/plain": [
       "                 co2\n",
       "ts                  \n",
       "11/21/2016 0:47  708\n",
       "11/21/2016 0:48  694\n",
       "11/21/2016 0:49  693\n",
       "11/21/2016 0:50  692\n",
       "11/21/2016 0:51  690"
      ]
     },
     "execution_count": 5,
     "metadata": {},
     "output_type": "execute_result"
    }
   ],
   "source": [
    "# Set date_time as index\n",
    "df = df.set_index('ts')\n",
    "# Show the data\n",
    "df.head()"
   ]
  },
  {
   "cell_type": "code",
   "execution_count": 6,
   "id": "initial-jefferson",
   "metadata": {},
   "outputs": [
    {
     "name": "stdout",
     "output_type": "stream",
     "text": [
      "<class 'pandas.core.frame.DataFrame'>\n",
      "Index: 135099 entries, 11/21/2016 0:47 to 3/28/2017 9:30\n",
      "Data columns (total 1 columns):\n",
      " #   Column  Non-Null Count   Dtype  \n",
      "---  ------  --------------   -----  \n",
      " 0   co2     135099 non-null  float32\n",
      "dtypes: float32(1)\n",
      "memory usage: 1.5+ MB\n"
     ]
    }
   ],
   "source": [
    "df = df.astype('float32')\n",
    "df.info()"
   ]
  },
  {
   "cell_type": "code",
   "execution_count": 7,
   "id": "emerging-skating",
   "metadata": {},
   "outputs": [
    {
     "data": {
      "text/plain": [
       "array([[0.15019937],\n",
       "       [0.14399646],\n",
       "       [0.14355339],\n",
       "       ...,\n",
       "       [0.43597692],\n",
       "       [0.4337616 ],\n",
       "       [0.44040757]], dtype=float32)"
      ]
     },
     "execution_count": 7,
     "metadata": {},
     "output_type": "execute_result"
    }
   ],
   "source": [
    "# normalise or scale data to be between 0 and 1\n",
    "scaler = MinMaxScaler(feature_range=(0,1))\n",
    "df1 = scaler.fit_transform(np.array(df).reshape(-1,1))\n",
    "df1"
   ]
  },
  {
   "cell_type": "code",
   "execution_count": 8,
   "id": "musical-insider",
   "metadata": {},
   "outputs": [],
   "source": [
    "# split the co2 dataset into train/test sets\n",
    "# The first 9 datasets are truncated so as to give a proper split into 30mins-interval\n",
    "def split_dataset(data):\n",
    "    # split in the ratio 70-30\n",
    "    train, test = data[9:int(len(df)*.7)], data[int(len(df)*.7):]\n",
    "    # restructure into windows of 30min data\n",
    "    train = np.array(np.split(train, len(train)/30))\n",
    "    test = np.array(np.split(test, len(test)/30))\n",
    "    return train, test"
   ]
  },
  {
   "cell_type": "code",
   "execution_count": 9,
   "id": "individual-canal",
   "metadata": {},
   "outputs": [
    {
     "name": "stdout",
     "output_type": "stream",
     "text": [
      "(3152, 30, 1)\n",
      "0.14355339 0.31103235\n",
      "(1351, 30, 1)\n",
      "0.3256535 0.44040757\n"
     ]
    }
   ],
   "source": [
    "train, test = split_dataset(df1)\n",
    "# validate train data\n",
    "print(train.shape)\n",
    "print(train[0, 0, 0], train[-1, -1, 0])\n",
    "# validate test\n",
    "print(test.shape)\n",
    "print(test[0, 0, 0], test[-1, -1, 0])"
   ]
  },
  {
   "cell_type": "code",
   "execution_count": 10,
   "id": "three-imperial",
   "metadata": {},
   "outputs": [],
   "source": [
    "# convert history into inputs and outputs\n",
    "def to_supervised(train, n_input, n_out=30):\n",
    "    # flatten data\n",
    "    data = train.reshape((train.shape[0]*train.shape[1], train.shape[2]))\n",
    "    X, y = list(), list()\n",
    "    in_start = 0\n",
    "    # step over the entire history one time step at a time\n",
    "    for _ in range(len(data)):\n",
    "        # define the end of the input sequence\n",
    "        in_end = in_start + n_input\n",
    "        out_end = in_end + n_out\n",
    "        # ensure we have enough data for this instance\n",
    "        if out_end <= len(data):\n",
    "            x_input = data[in_start:in_end, 0]\n",
    "            x_input = x_input.reshape((len(x_input), 1))\n",
    "            X.append(x_input)\n",
    "            y.append(data[in_end:out_end, 0])\n",
    "        # move along one time step\n",
    "        in_start += 1\n",
    "    return np.array(X), np.array(y)"
   ]
  },
  {
   "cell_type": "code",
   "execution_count": 11,
   "id": "floating-eagle",
   "metadata": {},
   "outputs": [
    {
     "data": {
      "text/plain": [
       "((94501, 30, 1), (94501, 30))"
      ]
     },
     "execution_count": 11,
     "metadata": {},
     "output_type": "execute_result"
    }
   ],
   "source": [
    "# Quick check to test the function \"to_supervised\"\n",
    "train_x, train_y = to_supervised(train, 30)\n",
    "test_x, test_y = to_supervised(test, 30)\n",
    "train_x.shape, train_y.shape"
   ]
  },
  {
   "cell_type": "code",
   "execution_count": 12,
   "id": "tropical-footwear",
   "metadata": {
    "scrolled": true
   },
   "outputs": [
    {
     "data": {
      "text/plain": [
       "array([[ 693.     ,  695.     ,  695.     , ...,  733.     ,  733.     ,\n",
       "         735.     ],\n",
       "       [ 695.     ,  695.     ,  696.     , ...,  733.     ,  735.     ,\n",
       "         739.     ],\n",
       "       [ 695.     ,  696.     ,  697.     , ...,  735.     ,  739.     ,\n",
       "         741.99994],\n",
       "       ...,\n",
       "       [1076.0001 , 1067.     , 1099.     , ..., 1081.     , 1071.0001 ,\n",
       "        1061.0001 ],\n",
       "       [1067.     , 1099.     , 1089.     , ..., 1071.0001 , 1061.0001 ,\n",
       "        1050.     ],\n",
       "       [1099.     , 1089.     , 1073.0001 , ..., 1061.0001 , 1050.     ,\n",
       "        1069.     ]], dtype=float32)"
      ]
     },
     "execution_count": 12,
     "metadata": {},
     "output_type": "execute_result"
    }
   ],
   "source": [
    "# I am transforming back to the original dataset so you see that y is actually 30mins ahead.\n",
    "# X1 and y1 are just for this test. \n",
    "X1 = train_x.reshape(94501, 30) # reshape from 3D to 2D\n",
    "X1 = scaler.inverse_transform(X1)\n",
    "y1 = scaler.inverse_transform(train_y)\n",
    "X1 # The first row of X1 starts from the 10th row in the dataset"
   ]
  },
  {
   "cell_type": "code",
   "execution_count": 13,
   "id": "timely-precipitation",
   "metadata": {},
   "outputs": [
    {
     "data": {
      "text/plain": [
       "array([[ 739.     ,  741.99994,  743.     , ..., 1050.     , 1064.     ,\n",
       "        1102.0001 ],\n",
       "       [ 741.99994,  743.     ,  747.     , ..., 1064.     , 1102.0001 ,\n",
       "        1113.     ],\n",
       "       [ 743.     ,  747.     ,  756.     , ..., 1102.0001 , 1113.     ,\n",
       "        1153.     ],\n",
       "       ...,\n",
       "       [1050.     , 1069.     , 1091.     , ..., 1056.     , 1056.     ,\n",
       "        1062.     ],\n",
       "       [1069.     , 1091.     , 1096.     , ..., 1056.     , 1062.     ,\n",
       "        1067.     ],\n",
       "       [1091.     , 1096.     , 1078.0001 , ..., 1062.     , 1067.     ,\n",
       "        1071.0001 ]], dtype=float32)"
      ]
     },
     "execution_count": 13,
     "metadata": {},
     "output_type": "execute_result"
    }
   ],
   "source": [
    "y1 # Each value is 30mins ahead of the first data of X1 "
   ]
  },
  {
   "cell_type": "code",
   "execution_count": 14,
   "id": "opponent-webcam",
   "metadata": {
    "scrolled": true
   },
   "outputs": [
    {
     "data": {
      "image/png": "[encoded data removed]",
      "text/plain": [
       "<Figure size 1152x576 with 1 Axes>"
      ]
     },
     "metadata": {
      "needs_background": "light"
     },
     "output_type": "display_data"
    }
   ],
   "source": [
    "# As you can see the first X1 value 693 has a corresponding y1 value 739\n",
    "# Check the dataset. The first 9 data in the CO2 excel sheet were truncated. \n",
    "# So start from the 10th data in the sheet which is 693. Now count, 30 from 693, you will get 739- the value of y1\n",
    "# Here is a plot of X1 and y1 just for visualisation.\n",
    "\n",
    "plt.figure(figsize=(16,8))\n",
    "plt.title('Model', fontsize=18)\n",
    "plt.xlabel('Time_Step', fontsize=18)\n",
    "plt.ylabel('CO2', fontsize=18)\n",
    "plt.plot(X1[:,0][:100]) # First 100 data in the first column.\n",
    "plt.plot(y1[:,0][:100]) # First 100 data in the first column\n",
    "plt.legend(['X1', 'y1'], loc='upper right')\n",
    "plt.show()"
   ]
  },
  {
   "cell_type": "markdown",
   "id": "plain-alexandria",
   "metadata": {},
   "source": [
    "# LSTM Model"
   ]
  },
  {
   "cell_type": "code",
   "execution_count": 15,
   "id": "smart-chamber",
   "metadata": {},
   "outputs": [
    {
     "name": "stdout",
     "output_type": "stream",
     "text": [
      "Model: \"sequential_1\"\n",
      "_________________________________________________________________\n",
      "Layer (type)                 Output Shape              Param #   \n",
      "=================================================================\n",
      "lstm_1 (LSTM)                (None, 200)               161600    \n",
      "_________________________________________________________________\n",
      "repeat_vector_1 (RepeatVecto (None, 30, 200)           0         \n",
      "_________________________________________________________________\n",
      "lstm_2 (LSTM)                (None, 30, 200)           320800    \n",
      "_________________________________________________________________\n",
      "time_distributed_1 (TimeDist (None, 30, 100)           20100     \n",
      "_________________________________________________________________\n",
      "time_distributed_2 (TimeDist (None, 30, 1)             101       \n",
      "=================================================================\n",
      "Total params: 502,601\n",
      "Trainable params: 502,601\n",
      "Non-trainable params: 0\n",
      "_________________________________________________________________\n"
     ]
    }
   ],
   "source": [
    "# train the model\n",
    "n_input = 30\n",
    "train_x, train_y = to_supervised(train, n_input)\n",
    "# define parameters\n",
    "verbose, epochs, batch_size = 1, 10, 30\n",
    "n_timesteps, n_features, n_outputs = train_x.shape[1], train_x.shape[2], train_y.shape[1]\n",
    "# reshape output into [# LSTM Modelsamples, timesteps, features]\n",
    "train_y = train_y.reshape((train_y.shape[0], train_y.shape[1], 1))\n",
    "# define model\n",
    "model = Sequential()\n",
    "model.add(LSTM(200, activation='relu', dropout=0.2, input_shape=(n_timesteps, n_features)))\n",
    "model.add(RepeatVector(n_outputs))\n",
    "model.add(LSTM(200, activation='relu', dropout=0.2, return_sequences=True))\n",
    "model.add(TimeDistributed(Dense(100, activation='relu')))\n",
    "model.add(TimeDistributed(Dense(1)))\n",
    "model.compile(loss='mse', optimizer='adam')\n",
    "model.summary()"
   ]
  },
  {
   "cell_type": "code",
   "execution_count": 44,
   "id": "planned-giant",
   "metadata": {},
   "outputs": [
    {
     "name": "stdout",
     "output_type": "stream",
     "text": [
      "Epoch 1/10\n",
      "94501/94501 [==============================] - 239s 3ms/step - loss: 0.0070\n",
      "Epoch 2/10\n",
      "94501/94501 [==============================] - 244s 3ms/step - loss: 0.0066 3\n",
      "Epoch 3/10\n",
      "94501/94501 [==============================] - 234s 2ms/step - loss: 0.0064\n",
      "Epoch 4/10\n",
      "94501/94501 [==============================] - 203s 2ms/step - loss: 0.0064\n",
      "Epoch 5/10\n",
      "94501/94501 [==============================] - 190s 2ms/step - loss: 0.0065\n",
      "Epoch 6/10\n",
      "94501/94501 [==============================] - 189s 2ms/step - loss: 0.0063\n",
      "Epoch 7/10\n",
      "94501/94501 [==============================] - 189s 2ms/step - loss: 0.0067\n",
      "Epoch 8/10\n",
      "94501/94501 [==============================] - 190s 2ms/step - loss: 0.0062\n",
      "Epoch 9/10\n",
      "94501/94501 [==============================] - 191s 2ms/step - loss: 0.0063 \n",
      "Epoch 10/10\n",
      "94501/94501 [==============================] - 191s 2ms/step - loss: 0.0063\n"
     ]
    },
    {
     "data": {
      "text/plain": [
       "<keras.callbacks.callbacks.History at 0x2dbf5539cf8>"
      ]
     },
     "execution_count": 44,
     "metadata": {},
     "output_type": "execute_result"
    }
   ],
   "source": [
    "# fit network\n",
    "model.fit(train_x, train_y, epochs=epochs, batch_size=batch_size, verbose=verbose)"
   ]
  },
  {
   "cell_type": "code",
   "execution_count": 16,
   "id": "urban-dealing",
   "metadata": {},
   "outputs": [],
   "source": [
    "from keras.models import load_model\n",
    "\n",
    "# model.save('my_model.h5')  # creates a HDF5 file 'my_model.h5'\n",
    "# del model - deletes the existing model\n",
    "\n",
    "model = load_model('my_model.h5') # returns a compiled model identical to the previous one"
   ]
  },
  {
   "cell_type": "code",
   "execution_count": 17,
   "id": "structured-thesis",
   "metadata": {},
   "outputs": [],
   "source": [
    "# make a forecast\n",
    "def forecast(model, history, n_input):\n",
    "    # flatten data\n",
    "    data = np.array(history)\n",
    "    data = data.reshape((data.shape[0]*data.shape[1], data.shape[2]))\n",
    "    # retrieve last observations for input data\n",
    "    input_x = data[-n_input:, 0]\n",
    "    # reshape into [1, n_input, 1]\n",
    "    input_x = input_x.reshape((1, len(input_x), 1))\n",
    "    # forecast the next 30min\n",
    "    yhat = model.predict(input_x, verbose=0)\n",
    "    # we only want the vector forecast\n",
    "    yhat = yhat[0]\n",
    "    return yhat"
   ]
  },
  {
   "cell_type": "code",
   "execution_count": 18,
   "id": "representative-shelf",
   "metadata": {},
   "outputs": [],
   "source": [
    "# evaluate one or more 30min forecasts against expected values\n",
    "def evaluate_forecasts(actual, predicted):\n",
    "    scores = list()\n",
    "    # calculate an RMSE score for each minute\n",
    "    for i in range(actual.shape[1]):\n",
    "        # calculate mse\n",
    "        mse = mean_squared_error(actual[:, i], predicted[:, i])\n",
    "        # calculate rmse\n",
    "        rmse = sqrt(mse)\n",
    "        # store\n",
    "        scores.append(rmse)\n",
    "    # calculate overall RMSE\n",
    "    s = 0\n",
    "    for row in range(actual.shape[0]):\n",
    "        for col in range(actual.shape[1]):\n",
    "            s += (actual[row, col] - predicted[row, col])**2\n",
    "    score = sqrt(s / (actual.shape[0] * actual.shape[1]))\n",
    "    return score, scores"
   ]
  },
  {
   "cell_type": "code",
   "execution_count": 19,
   "id": "raising-america",
   "metadata": {},
   "outputs": [],
   "source": [
    "# evaluate a single model\n",
    "def evaluate_model(train, test, n_input):\n",
    "    # fit model\n",
    "    model = load_model('my_model.h5')\n",
    "    # history is a list of 30min-interval data\n",
    "    history = [x for x in train]\n",
    "    # walk-forward validation over each 30min \n",
    "    predictions = list()\n",
    "    for i in range(len(test)):\n",
    "        # predict the 30min\n",
    "        yhat_sequence = forecast(model, history, n_input)\n",
    "        # store the predictions\n",
    "        predictions.append(yhat_sequence)\n",
    "        # get real observation and add to history for predicting the next 30min\n",
    "        history.append(test[i, :])\n",
    "    # evaluate predictions (minutes) for each 30min\n",
    "    predictions = np.array(predictions)\n",
    "    score, scores = evaluate_forecasts(test[:, :, 0], predictions)\n",
    "    return score, scores\n",
    "\n",
    "# summarize scores\n",
    "def summarize_scores(name, score, scores):\n",
    "    s_scores = ', '.join(['{:.1f}'.format(s) for s in scores])\n",
    "    print('{}: [{:.3f}] {}'.format(name, score, s_scores))"
   ]
  },
  {
   "cell_type": "code",
   "execution_count": 20,
   "id": "generic-alignment",
   "metadata": {},
   "outputs": [
    {
     "name": "stdout",
     "output_type": "stream",
     "text": [
      "lstm: [0.071] 0.1, 0.1, 0.1, 0.1, 0.1, 0.1, 0.1, 0.1, 0.1, 0.1, 0.1, 0.1, 0.1, 0.1, 0.1, 0.1, 0.1, 0.1, 0.1, 0.1, 0.1, 0.1, 0.1, 0.1, 0.1, 0.1, 0.1, 0.1, 0.1, 0.1\n"
     ]
    },
    {
     "data": {
      "image/png": "[encoded data removed]",
      "text/plain": [
       "<Figure size 432x288 with 1 Axes>"
      ]
     },
     "metadata": {
      "needs_background": "light"
     },
     "output_type": "display_data"
    }
   ],
   "source": [
    "# evaluate model and get scores. The scores are approximately 0.1 but the actual values are as depicted in the graph.\n",
    "n_input = 30\n",
    "score, scores = evaluate_model(train, test, n_input)\n",
    "# summarize scores\n",
    "summarize_scores('lstm', score, scores)\n",
    "# plot scores\n",
    "time = [t for t in range(1,31)]\n",
    "plt.plot(time, scores, marker='o', label='lstm')\n",
    "plt.show()"
   ]
  },
  {
   "cell_type": "code",
   "execution_count": 28,
   "id": "loving-vulnerability",
   "metadata": {},
   "outputs": [
    {
     "data": {
      "text/plain": [
       "(40471, 30)"
      ]
     },
     "execution_count": 28,
     "metadata": {},
     "output_type": "execute_result"
    }
   ],
   "source": [
    "test_y.shape"
   ]
  },
  {
   "cell_type": "code",
   "execution_count": 31,
   "id": "offshore-consciousness",
   "metadata": {},
   "outputs": [
    {
     "data": {
      "text/plain": [
       "(40471, 30)"
      ]
     },
     "execution_count": 31,
     "metadata": {},
     "output_type": "execute_result"
    }
   ],
   "source": [
    "# Lets Do the prediction and check performance metrics\n",
    "test_pred = model.predict(test_x) # test_pred is the prediction on test_x\n",
    "test_pred1 = test_pred.reshape(40471, 30) \n",
    "test_y1 = test_y # test_y is the actual value of y 30 minutes ahead given x\n",
    "test_x1 = test_x.reshape(40471, 30)\n",
    "test_y1.shape"
   ]
  },
  {
   "cell_type": "code",
   "execution_count": 32,
   "id": "appointed-mongolia",
   "metadata": {},
   "outputs": [],
   "source": [
    "# Transform back to original form\n",
    "test_x1 = scaler.inverse_transform(test_x1)\n",
    "test_y1 = scaler.inverse_transform(test_y1)\n",
    "test_pred1 = scaler.inverse_transform(test_pred1)"
   ]
  },
  {
   "cell_type": "code",
   "execution_count": 66,
   "id": "tough-vessel",
   "metadata": {},
   "outputs": [
    {
     "data": {
      "image/png": "[encoded data removed]",
      "text/plain": [
       "<Figure size 1152x576 with 1 Axes>"
      ]
     },
     "metadata": {
      "needs_background": "light"
     },
     "output_type": "display_data"
    }
   ],
   "source": [
    "# Plot test vs predictions \n",
    "time = np.arange(1,501) # 30 minute data needed for prediction\n",
    "time_pred = np.arange(31,531)\n",
    "#time = [t for t in range(1,1001)]\n",
    "plt.figure(figsize=(16,8))\n",
    "plt.title('Model')\n",
    "plt.xlabel('Time(min)', fontsize=18)\n",
    "plt.ylabel('CO2', fontsize=18)\n",
    "plt.plot(time, test_x1[-530:-30, 0])\n",
    "plt.plot(time_pred, test_y1[-500:, 0])\n",
    "plt.plot(time_pred, test_pred1[-500:, 0])\n",
    "plt.legend(['Dataset', 'Actual', 'Predictions'], loc='lower right')\n",
    "plt.show()"
   ]
  },
  {
   "cell_type": "code",
   "execution_count": 65,
   "id": "whole-gates",
   "metadata": {},
   "outputs": [
    {
     "data": {
      "text/plain": [
       "(500,)"
      ]
     },
     "execution_count": 65,
     "metadata": {},
     "output_type": "execute_result"
    }
   ],
   "source": [
    "test_x1[-530:-30, 0].shape"
   ]
  },
  {
   "cell_type": "code",
   "execution_count": 67,
   "id": "relative-present",
   "metadata": {},
   "outputs": [
    {
     "data": {
      "text/html": [
       "<div>\n",
       "<style scoped>\n",
       "    .dataframe tbody tr th:only-of-type {\n",
       "        vertical-align: middle;\n",
       "    }\n",
       "\n",
       "    .dataframe tbody tr th {\n",
       "        vertical-align: top;\n",
       "    }\n",
       "\n",
       "    .dataframe thead th {\n",
       "        text-align: right;\n",
       "    }\n",
       "</style>\n",
       "<table border=\"1\" class=\"dataframe\">\n",
       "  <thead>\n",
       "    <tr style=\"text-align: right;\">\n",
       "      <th></th>\n",
       "      <th>x_Dataset</th>\n",
       "      <th>Actual</th>\n",
       "      <th>Predicted</th>\n",
       "    </tr>\n",
       "  </thead>\n",
       "  <tbody>\n",
       "    <tr>\n",
       "      <th>0</th>\n",
       "      <td>425.0</td>\n",
       "      <td>463.000000</td>\n",
       "      <td>447.339233</td>\n",
       "    </tr>\n",
       "    <tr>\n",
       "      <th>1</th>\n",
       "      <td>425.0</td>\n",
       "      <td>472.000000</td>\n",
       "      <td>446.436981</td>\n",
       "    </tr>\n",
       "    <tr>\n",
       "      <th>2</th>\n",
       "      <td>425.0</td>\n",
       "      <td>472.000000</td>\n",
       "      <td>454.209259</td>\n",
       "    </tr>\n",
       "    <tr>\n",
       "      <th>3</th>\n",
       "      <td>426.0</td>\n",
       "      <td>472.000000</td>\n",
       "      <td>458.603729</td>\n",
       "    </tr>\n",
       "    <tr>\n",
       "      <th>4</th>\n",
       "      <td>426.0</td>\n",
       "      <td>466.999969</td>\n",
       "      <td>459.567352</td>\n",
       "    </tr>\n",
       "    <tr>\n",
       "      <th>...</th>\n",
       "      <td>...</td>\n",
       "      <td>...</td>\n",
       "      <td>...</td>\n",
       "    </tr>\n",
       "    <tr>\n",
       "      <th>495</th>\n",
       "      <td>1212.0</td>\n",
       "      <td>1303.000122</td>\n",
       "      <td>1014.933105</td>\n",
       "    </tr>\n",
       "    <tr>\n",
       "      <th>496</th>\n",
       "      <td>1201.0</td>\n",
       "      <td>1318.000000</td>\n",
       "      <td>1014.199646</td>\n",
       "    </tr>\n",
       "    <tr>\n",
       "      <th>497</th>\n",
       "      <td>1209.0</td>\n",
       "      <td>1329.000000</td>\n",
       "      <td>1017.519409</td>\n",
       "    </tr>\n",
       "    <tr>\n",
       "      <th>498</th>\n",
       "      <td>1221.0</td>\n",
       "      <td>1325.000000</td>\n",
       "      <td>1025.810791</td>\n",
       "    </tr>\n",
       "    <tr>\n",
       "      <th>499</th>\n",
       "      <td>1210.0</td>\n",
       "      <td>1304.000000</td>\n",
       "      <td>1029.229248</td>\n",
       "    </tr>\n",
       "  </tbody>\n",
       "</table>\n",
       "<p>500 rows × 3 columns</p>\n",
       "</div>"
      ],
      "text/plain": [
       "     x_Dataset       Actual    Predicted\n",
       "0        425.0   463.000000   447.339233\n",
       "1        425.0   472.000000   446.436981\n",
       "2        425.0   472.000000   454.209259\n",
       "3        426.0   472.000000   458.603729\n",
       "4        426.0   466.999969   459.567352\n",
       "..         ...          ...          ...\n",
       "495     1212.0  1303.000122  1014.933105\n",
       "496     1201.0  1318.000000  1014.199646\n",
       "497     1209.0  1329.000000  1017.519409\n",
       "498     1221.0  1325.000000  1025.810791\n",
       "499     1210.0  1304.000000  1029.229248\n",
       "\n",
       "[500 rows x 3 columns]"
      ]
     },
     "execution_count": 67,
     "metadata": {},
     "output_type": "execute_result"
    }
   ],
   "source": [
    "# This is how the predicted values compare with the actual test result for 30 minutes data. \n",
    "valid = pd.DataFrame({'x_Dataset':test_x1[-530:-30, 0], 'Actual':test_y1[-500:, 0], 'Predicted':test_pred1[-500:, 0]})\n",
    "valid"
   ]
  },
  {
   "cell_type": "code",
   "execution_count": null,
   "id": "charitable-framing",
   "metadata": {},
   "outputs": [],
   "source": []
  }
 ],
 "metadata": {
  "kernelspec": {
   "display_name": "Python 3",
   "language": "python",
   "name": "python3"
  },
  "language_info": {
   "codemirror_mode": {
    "name": "ipython",
    "version": 3
   },
   "file_extension": ".py",
   "mimetype": "text/x-python",
   "name": "python",
   "nbconvert_exporter": "python",
   "pygments_lexer": "ipython3",
   "version": "3.6.10"
  }
 },
 "nbformat": 4,
 "nbformat_minor": 5
}
